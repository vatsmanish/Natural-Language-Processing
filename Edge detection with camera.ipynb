{
 "cells": [
  {
   "cell_type": "code",
   "execution_count": 3,
   "metadata": {},
   "outputs": [
    {
     "ename": "SyntaxError",
     "evalue": "invalid syntax (<ipython-input-3-63771959163e>, line 1)",
     "output_type": "error",
     "traceback": [
      "\u001b[1;36m  File \u001b[1;32m\"<ipython-input-3-63771959163e>\"\u001b[1;36m, line \u001b[1;32m1\u001b[0m\n\u001b[1;33m    pip3 install opencv python matplotlib numpy\u001b[0m\n\u001b[1;37m               ^\u001b[0m\n\u001b[1;31mSyntaxError\u001b[0m\u001b[1;31m:\u001b[0m invalid syntax\n"
     ]
    }
   ],
   "source": [
    "pip3 install opencv python matplotlib numpy"
   ]
  },
  {
   "cell_type": "code",
   "execution_count": 1,
   "metadata": {},
   "outputs": [
    {
     "ename": "KeyboardInterrupt",
     "evalue": "",
     "output_type": "error",
     "traceback": [
      "\u001b[1;31m---------------------------------------------------------------------------\u001b[0m",
      "\u001b[1;31mKeyboardInterrupt\u001b[0m                         Traceback (most recent call last)",
      "\u001b[1;32m<ipython-input-1-407f498b2316>\u001b[0m in \u001b[0;36m<module>\u001b[1;34m\u001b[0m\n\u001b[0;32m      3\u001b[0m \u001b[0mvcapture\u001b[0m \u001b[1;33m=\u001b[0m \u001b[0mcv2\u001b[0m\u001b[1;33m.\u001b[0m\u001b[0mVideoCapture\u001b[0m\u001b[1;33m(\u001b[0m\u001b[1;36m0\u001b[0m\u001b[1;33m)\u001b[0m\u001b[1;33m\u001b[0m\u001b[1;33m\u001b[0m\u001b[0m\n\u001b[0;32m      4\u001b[0m \u001b[1;32mwhile\u001b[0m \u001b[1;32mTrue\u001b[0m\u001b[1;33m:\u001b[0m\u001b[1;33m\u001b[0m\u001b[1;33m\u001b[0m\u001b[0m\n\u001b[1;32m----> 5\u001b[1;33m   \u001b[0mret\u001b[0m\u001b[1;33m,\u001b[0m \u001b[0mframe\u001b[0m \u001b[1;33m=\u001b[0m \u001b[0mvcapture\u001b[0m\u001b[1;33m.\u001b[0m\u001b[0mread\u001b[0m\u001b[1;33m(\u001b[0m\u001b[1;33m)\u001b[0m\u001b[1;33m\u001b[0m\u001b[1;33m\u001b[0m\u001b[0m\n\u001b[0m\u001b[0;32m      6\u001b[0m   \u001b[1;32mif\u001b[0m \u001b[0mret\u001b[0m \u001b[1;33m==\u001b[0m \u001b[1;32mTrue\u001b[0m\u001b[1;33m:\u001b[0m\u001b[1;33m\u001b[0m\u001b[1;33m\u001b[0m\u001b[0m\n\u001b[0;32m      7\u001b[0m     \u001b[0mgrayscale\u001b[0m \u001b[1;33m=\u001b[0m \u001b[0mcv2\u001b[0m\u001b[1;33m.\u001b[0m\u001b[0mcvtColor\u001b[0m\u001b[1;33m(\u001b[0m\u001b[0mframe\u001b[0m\u001b[1;33m,\u001b[0m \u001b[0mcv2\u001b[0m\u001b[1;33m.\u001b[0m\u001b[0mCOLOR_BGR2GRAY\u001b[0m\u001b[1;33m)\u001b[0m\u001b[1;33m\u001b[0m\u001b[1;33m\u001b[0m\u001b[0m\n",
      "\u001b[1;31mKeyboardInterrupt\u001b[0m: "
     ]
    }
   ],
   "source": [
    "import cv2\n",
    "\n",
    "vcapture = cv2.VideoCapture(0) \n",
    "while True:\n",
    "  ret, frame = vcapture.read()\n",
    "  if ret == True:\n",
    "    grayscale = cv2.cvtColor(frame, cv2.COLOR_BGR2GRAY)\n",
    "    edge = cv2.Canny(grayscale, 75, 125)\n",
    "    cv2.imshow('Edge frame', edge)\n",
    "    if cv2.waitKey(20) == ord('q'):\n",
    "      break\n",
    " \n",
    "vcapture.release()\n",
    "cv2.destroyAllWindows()"
   ]
  },
  {
   "cell_type": "code",
   "execution_count": 4,
   "metadata": {},
   "outputs": [
    {
     "ename": "KeyboardInterrupt",
     "evalue": "",
     "output_type": "error",
     "traceback": [
      "\u001b[1;31m---------------------------------------------------------------------------\u001b[0m",
      "\u001b[1;31mKeyboardInterrupt\u001b[0m                         Traceback (most recent call last)",
      "\u001b[1;32m<ipython-input-4-e9fb2a159989>\u001b[0m in \u001b[0;36m<module>\u001b[1;34m\u001b[0m\n\u001b[0;32m     15\u001b[0m \u001b[1;32mwhile\u001b[0m\u001b[1;33m(\u001b[0m\u001b[1;36m1\u001b[0m\u001b[1;33m)\u001b[0m\u001b[1;33m:\u001b[0m\u001b[1;33m\u001b[0m\u001b[1;33m\u001b[0m\u001b[0m\n\u001b[0;32m     16\u001b[0m     \u001b[1;31m# reads frames from a camera\u001b[0m\u001b[1;33m\u001b[0m\u001b[1;33m\u001b[0m\u001b[1;33m\u001b[0m\u001b[0m\n\u001b[1;32m---> 17\u001b[1;33m     \u001b[0mret\u001b[0m\u001b[1;33m,\u001b[0m \u001b[0mframe\u001b[0m \u001b[1;33m=\u001b[0m \u001b[0mcap\u001b[0m\u001b[1;33m.\u001b[0m\u001b[0mread\u001b[0m\u001b[1;33m(\u001b[0m\u001b[1;33m)\u001b[0m\u001b[1;33m\u001b[0m\u001b[1;33m\u001b[0m\u001b[0m\n\u001b[0m\u001b[0;32m     18\u001b[0m     \u001b[1;31m# converting BGR to HSV\u001b[0m\u001b[1;33m\u001b[0m\u001b[1;33m\u001b[0m\u001b[1;33m\u001b[0m\u001b[0m\n\u001b[0;32m     19\u001b[0m     \u001b[0mhsv\u001b[0m \u001b[1;33m=\u001b[0m \u001b[0mcv2\u001b[0m\u001b[1;33m.\u001b[0m\u001b[0mcvtColor\u001b[0m\u001b[1;33m(\u001b[0m\u001b[0mframe\u001b[0m\u001b[1;33m,\u001b[0m \u001b[0mcv2\u001b[0m\u001b[1;33m.\u001b[0m\u001b[0mCOLOR_BGR2HSV\u001b[0m\u001b[1;33m)\u001b[0m\u001b[1;33m\u001b[0m\u001b[1;33m\u001b[0m\u001b[0m\n",
      "\u001b[1;31mKeyboardInterrupt\u001b[0m: "
     ]
    }
   ],
   "source": [
    "# OpenCV program to perform Edge detection in real time \n",
    "# import libraries of python OpenCV \n",
    "# where its functionality resides \n",
    "import cv2 \n",
    "\n",
    "# np is an alias pointing to numpy library \n",
    "import numpy as np \n",
    "\n",
    "\n",
    "# capture frames from a camera \n",
    "cap = cv2.VideoCapture(0) \n",
    "\n",
    "\n",
    "# loop runs if capturing has been initialized \n",
    "while(1): \n",
    "    # reads frames from a camera \n",
    "    ret, frame = cap.read() \n",
    "    # converting BGR to HSV \n",
    "    hsv = cv2.cvtColor(frame, cv2.COLOR_BGR2HSV) \n",
    "    \n",
    "    # define range of red color in HSV \n",
    "    lower_red = np.array([30,150,50]) \n",
    "    upper_red = np.array([255,255,180]) \n",
    "\n",
    "    # create a red HSV colour boundary and \n",
    "    # threshold HSV image \n",
    "    mask = cv2.inRange(hsv, lower_red, upper_red) \n",
    "\n",
    "    # Bitwise-AND mask and original image \n",
    "    res = cv2.bitwise_and(frame,frame, mask= mask) \n",
    "    # Display an original image \n",
    "    cv2.imshow('Original',frame) \n",
    "    # finds edges in the input image image and \n",
    "    # marks them in the output map edges \n",
    "    edges = cv2.Canny(frame,100,200)\n",
    "    # Display edges in a frame \n",
    "    cv2.imshow('Edges',edges) \n",
    "    # Wait for Esc key to stop \n",
    "    k = cv2.waitKey(5) & 0xFF\n",
    "    if k == 27: \n",
    "        break\n",
    "\n",
    "\n",
    "# Close the window \n",
    "cap.release() \n",
    "\n",
    "# De-allocate any associated memory usage \n",
    "cv2.destroyAllWindows() \n"
   ]
  },
  {
   "cell_type": "code",
   "execution_count": 2,
   "metadata": {},
   "outputs": [
    {
     "name": "stdout",
     "output_type": "stream",
     "text": [
      "Collecting Computer_Vision\n",
      "  Downloading https://files.pythonhosted.org/packages/56/f2/93ab27bab547b3f57cc0389bdb754ae25a0331eab1086b4648f3e60190a6/computer_vision-0.0.6-py3-none-any.whl\n",
      "Installing collected packages: Computer-Vision\n",
      "Successfully installed Computer-Vision-0.0.6\n",
      "Note: you may need to restart the kernel to use updated packages.\n"
     ]
    }
   ],
   "source": [
    "pip install Computer_Vision"
   ]
  },
  {
   "cell_type": "code",
   "execution_count": 3,
   "metadata": {},
   "outputs": [
    {
     "ename": "ModuleNotFoundError",
     "evalue": "No module named 'Computer_Vision'",
     "output_type": "error",
     "traceback": [
      "\u001b[1;31m---------------------------------------------------------------------------\u001b[0m",
      "\u001b[1;31mModuleNotFoundError\u001b[0m                       Traceback (most recent call last)",
      "\u001b[1;32m<ipython-input-3-2ae993f7516e>\u001b[0m in \u001b[0;36m<module>\u001b[1;34m\u001b[0m\n\u001b[0;32m      3\u001b[0m \u001b[1;32mimport\u001b[0m \u001b[0margparse\u001b[0m\u001b[1;33m\u001b[0m\u001b[1;33m\u001b[0m\u001b[0m\n\u001b[0;32m      4\u001b[0m \u001b[1;33m\u001b[0m\u001b[0m\n\u001b[1;32m----> 5\u001b[1;33m \u001b[1;32mfrom\u001b[0m \u001b[0mComputer_Vision\u001b[0m\u001b[1;33m.\u001b[0m\u001b[0mCanny_Edge_Detection\u001b[0m\u001b[1;33m.\u001b[0m\u001b[0msobel\u001b[0m \u001b[1;32mimport\u001b[0m \u001b[0msobel_edge_detection\u001b[0m\u001b[1;33m\u001b[0m\u001b[1;33m\u001b[0m\u001b[0m\n\u001b[0m\u001b[0;32m      6\u001b[0m \u001b[1;32mfrom\u001b[0m \u001b[0mComputer_Vision\u001b[0m\u001b[1;33m.\u001b[0m\u001b[0mCanny_Edge_Detection\u001b[0m\u001b[1;33m.\u001b[0m\u001b[0mgaussian_smoothing\u001b[0m \u001b[1;32mimport\u001b[0m \u001b[0mgaussian_blur\u001b[0m\u001b[1;33m\u001b[0m\u001b[1;33m\u001b[0m\u001b[0m\n\u001b[0;32m      7\u001b[0m \u001b[1;33m\u001b[0m\u001b[0m\n",
      "\u001b[1;31mModuleNotFoundError\u001b[0m: No module named 'Computer_Vision'"
     ]
    }
   ],
   "source": [
    "import numpy as np\n",
    "import cv2\n",
    "import argparse\n",
    "\n",
    "from Computer_Vision.Canny_Edge_Detection.sobel import sobel_edge_detection\n",
    "from Computer_Vision.Canny_Edge_Detection.gaussian_smoothing import gaussian_blur\n",
    "\n",
    "import matplotlib.pyplot as plt\n",
    "\n",
    "\n",
    "def non_max_suppression(gradient_magnitude, gradient_direction, verbose):\n",
    "    image_row, image_col = gradient_magnitude.shape\n",
    "\n",
    "    output = np.zeros(gradient_magnitude.shape)\n",
    "\n",
    "    PI = 180\n",
    "\n",
    "    for row in range(1, image_row - 1):\n",
    "        for col in range(1, image_col - 1):\n",
    "            direction = gradient_direction[row, col]\n",
    "\n",
    "            if (0 <= direction < PI / 8) or (15 * PI / 8 <= direction <= 2 * PI):\n",
    "                before_pixel = gradient_magnitude[row, col - 1]\n",
    "                after_pixel = gradient_magnitude[row, col + 1]\n",
    "\n",
    "            elif (PI / 8 <= direction < 3 * PI / 8) or (9 * PI / 8 <= direction < 11 * PI / 8):\n",
    "                before_pixel = gradient_magnitude[row + 1, col - 1]\n",
    "                after_pixel = gradient_magnitude[row - 1, col + 1]\n",
    "\n",
    "            elif (3 * PI / 8 <= direction < 5 * PI / 8) or (11 * PI / 8 <= direction < 13 * PI / 8):\n",
    "                before_pixel = gradient_magnitude[row - 1, col]\n",
    "                after_pixel = gradient_magnitude[row + 1, col]\n",
    "\n",
    "            else:\n",
    "                before_pixel = gradient_magnitude[row - 1, col - 1]\n",
    "                after_pixel = gradient_magnitude[row + 1, col + 1]\n",
    "\n",
    "            if gradient_magnitude[row, col] >= before_pixel and gradient_magnitude[row, col] >= after_pixel:\n",
    "                output[row, col] = gradient_magnitude[row, col]\n",
    "\n",
    "    if verbose:\n",
    "        plt.imshow(output, cmap='gray')\n",
    "        plt.title(\"Non Max Suppression\")\n",
    "        plt.show()\n",
    "\n",
    "    return output\n",
    "\n",
    "\n",
    "def threshold(image, low, high, weak, verbose=False):\n",
    "    output = np.zeros(image.shape)\n",
    "\n",
    "    strong = 255\n",
    "\n",
    "    strong_row, strong_col = np.where(image >= high)\n",
    "    weak_row, weak_col = np.where((image <= high) & (image >= low))\n",
    "\n",
    "    output[strong_row, strong_col] = strong\n",
    "    output[weak_row, weak_col] = weak\n",
    "\n",
    "    if verbose:\n",
    "        plt.imshow(output, cmap='gray')\n",
    "        plt.title(\"threshold\")\n",
    "        plt.show()\n",
    "\n",
    "    return output\n",
    "\n",
    "\n",
    "def hysteresis(image, weak):\n",
    "    image_row, image_col = image.shape\n",
    "\n",
    "    top_to_bottom = image.copy()\n",
    "\n",
    "    for row in range(1, image_row):\n",
    "        for col in range(1, image_col):\n",
    "            if top_to_bottom[row, col] == weak:\n",
    "                if top_to_bottom[row, col + 1] == 255 or top_to_bottom[row, col - 1] == 255 or top_to_bottom[row - 1, col] == 255 or top_to_bottom[\n",
    "                    row + 1, col] == 255 or top_to_bottom[\n",
    "                    row - 1, col - 1] == 255 or top_to_bottom[row + 1, col - 1] == 255 or top_to_bottom[row - 1, col + 1] == 255 or top_to_bottom[\n",
    "                    row + 1, col + 1] == 255:\n",
    "                    top_to_bottom[row, col] = 255\n",
    "                else:\n",
    "                    top_to_bottom[row, col] = 0\n",
    "\n",
    "    bottom_to_top = image.copy()\n",
    "\n",
    "    for row in range(image_row - 1, 0, -1):\n",
    "        for col in range(image_col - 1, 0, -1):\n",
    "            if bottom_to_top[row, col] == weak:\n",
    "                if bottom_to_top[row, col + 1] == 255 or bottom_to_top[row, col - 1] == 255 or bottom_to_top[row - 1, col] == 255 or bottom_to_top[\n",
    "                    row + 1, col] == 255 or bottom_to_top[\n",
    "                    row - 1, col - 1] == 255 or bottom_to_top[row + 1, col - 1] == 255 or bottom_to_top[row - 1, col + 1] == 255 or bottom_to_top[\n",
    "                    row + 1, col + 1] == 255:\n",
    "                    bottom_to_top[row, col] = 255\n",
    "                else:\n",
    "                    bottom_to_top[row, col] = 0\n",
    "\n",
    "    right_to_left = image.copy()\n",
    "\n",
    "    for row in range(1, image_row):\n",
    "        for col in range(image_col - 1, 0, -1):\n",
    "            if right_to_left[row, col] == weak:\n",
    "                if right_to_left[row, col + 1] == 255 or right_to_left[row, col - 1] == 255 or right_to_left[row - 1, col] == 255 or right_to_left[\n",
    "                    row + 1, col] == 255 or right_to_left[\n",
    "                    row - 1, col - 1] == 255 or right_to_left[row + 1, col - 1] == 255 or right_to_left[row - 1, col + 1] == 255 or right_to_left[\n",
    "                    row + 1, col + 1] == 255:\n",
    "                    right_to_left[row, col] = 255\n",
    "                else:\n",
    "                    right_to_left[row, col] = 0\n",
    "\n",
    "    left_to_right = image.copy()\n",
    "\n",
    "    for row in range(image_row - 1, 0, -1):\n",
    "        for col in range(1, image_col):\n",
    "            if left_to_right[row, col] == weak:\n",
    "                if left_to_right[row, col + 1] == 255 or left_to_right[row, col - 1] == 255 or left_to_right[row - 1, col] == 255 or left_to_right[\n",
    "                    row + 1, col] == 255 or left_to_right[\n",
    "                    row - 1, col - 1] == 255 or left_to_right[row + 1, col - 1] == 255 or left_to_right[row - 1, col + 1] == 255 or left_to_right[\n",
    "                    row + 1, col + 1] == 255:\n",
    "                    left_to_right[row, col] = 255\n",
    "                else:\n",
    "                    left_to_right[row, col] = 0\n",
    "\n",
    "    final_image = top_to_bottom + bottom_to_top + right_to_left + left_to_right\n",
    "\n",
    "    final_image[final_image > 255] = 255\n",
    "\n",
    "    return final_image\n",
    "\n",
    "\n",
    "if __name__ == '__main__':\n",
    "    ap = argparse.ArgumentParser()\n",
    "    ap.add_argument(\"-i\", \"--image\", required=True, help=\"Path to the image\")\n",
    "    ap.add_argument(\"-v\", \"--verbose\", type=bool, default=False, help=\"Path to the image\")\n",
    "    args = vars(ap.parse_args())\n",
    "\n",
    "    image = cv2.imread(args[\"image\"])\n",
    "\n",
    "    blurred_image = gaussian_blur(image, kernel_size=9, verbose=False)\n",
    "\n",
    "    edge_filter = np.array([[-1, 0, 1], [-2, 0, 2], [-1, 0, 1]])\n",
    "\n",
    "    gradient_magnitude, gradient_direction = sobel_edge_detection(blurred_image, edge_filter, convert_to_degree=True, verbose=args[\"verbose\"])\n",
    "\n",
    "    new_image = non_max_suppression(gradient_magnitude, gradient_direction, verbose=args[\"verbose\"])\n",
    "\n",
    "    weak = 50\n",
    "\n",
    "    new_image = threshold(new_image, 5, 20, weak=weak, verbose=args[\"verbose\"])\n",
    "\n",
    "    new_image = hysteresis(new_image, weak)\n",
    "\n",
    "    plt.imshow(new_image, cmap='gray')\n",
    "    plt.title(\"Canny Edge Detector\")\n",
    "    plt.show()"
   ]
  },
  {
   "cell_type": "code",
   "execution_count": 5,
   "metadata": {},
   "outputs": [
    {
     "name": "stdout",
     "output_type": "stream",
     "text": [
      "Collecting rect\n",
      "  Downloading https://files.pythonhosted.org/packages/19/3d/a00a7b6183238873704cc7ccafcc7ae0fce798ca17010d39bb738882961c/Rect-5.tar.gz\n",
      "Note: you may need to restart the kernel to use updated packages.\n"
     ]
    },
    {
     "name": "stderr",
     "output_type": "stream",
     "text": [
      "    ERROR: Command errored out with exit status 1:\n",
      "     command: 'C:\\Users\\MANDY\\Anaconda3\\python.exe' -c 'import sys, setuptools, tokenize; sys.argv[0] = '\"'\"'C:\\\\Users\\\\MANDY\\\\AppData\\\\Local\\\\Temp\\\\pip-install-c6g4u74k\\\\rect\\\\setup.py'\"'\"'; __file__='\"'\"'C:\\\\Users\\\\MANDY\\\\AppData\\\\Local\\\\Temp\\\\pip-install-c6g4u74k\\\\rect\\\\setup.py'\"'\"';f=getattr(tokenize, '\"'\"'open'\"'\"', open)(__file__);code=f.read().replace('\"'\"'\\r\\n'\"'\"', '\"'\"'\\n'\"'\"');f.close();exec(compile(code, __file__, '\"'\"'exec'\"'\"'))' egg_info --egg-base pip-egg-info\n",
      "         cwd: C:\\Users\\MANDY\\AppData\\Local\\Temp\\pip-install-c6g4u74k\\rect\\\n",
      "    Complete output (8 lines):\n",
      "    Traceback (most recent call last):\n",
      "      File \"<string>\", line 1, in <module>\n",
      "      File \"C:\\Users\\MANDY\\AppData\\Local\\Temp\\pip-install-c6g4u74k\\rect\\setup.py\", line 1, in <module>\n",
      "        from ez_setup import use_setuptools\n",
      "      File \"C:\\Users\\MANDY\\AppData\\Local\\Temp\\pip-install-c6g4u74k\\rect\\ez_setup.py\", line 94\n",
      "        except pkg_resources.VersionConflict, e:\n",
      "                                            ^\n",
      "    SyntaxError: invalid syntax\n",
      "    ----------------------------------------\n",
      "ERROR: Command errored out with exit status 1: python setup.py egg_info Check the logs for full command output.\n"
     ]
    }
   ],
   "source": [
    "pip install rect"
   ]
  },
  {
   "cell_type": "code",
   "execution_count": 11,
   "metadata": {},
   "outputs": [],
   "source": [
    "import numpy as np\n",
    "\n",
    "\n",
    "\n",
    "def rectify(h):\n",
    "\n",
    "    h = h.reshape((4,2))\n",
    "\n",
    "    hnew = np.zeros((4,2),dtype = np.float32)\n",
    "\n",
    "\n",
    "\n",
    "    add = h.sum(1)\n",
    "\n",
    "    hnew[0] = h[np.argmin(add)]\n",
    "\n",
    "    hnew[2] = h[np.argmax(add)]\n",
    "\n",
    "\n",
    "\n",
    "    diff = np.diff(h,axis = 1)\n",
    "\n",
    "    hnew[1] = h[np.argmin(diff)]\n",
    "\n",
    "    hnew[3] = h[np.argmax(diff)]\n",
    "\n",
    "\n",
    "\n",
    "    return hnew"
   ]
  },
  {
   "cell_type": "code",
   "execution_count": 16,
   "metadata": {},
   "outputs": [],
   "source": [
    "import cv2\n",
    "import numpy as np\n",
    "# import rect\n",
    "import os\n",
    "os.chdir(\"C:\\\\Users\\\\MANDY\\\\Downloads\")\n",
    "# add image here.\n",
    "# We can also use laptop's webcam if the resolution is good enough to capture\n",
    "# readable document content\n",
    "image = cv2.imread('edge.jpg')"
   ]
  },
  {
   "cell_type": "code",
   "execution_count": 19,
   "metadata": {},
   "outputs": [
    {
     "ename": "error",
     "evalue": "OpenCV(4.1.2) C:\\projects\\opencv-python\\opencv\\modules\\imgproc\\src\\color.cpp:182: error: (-215:Assertion failed) !_src.empty() in function 'cv::cvtColor'\n",
     "output_type": "error",
     "traceback": [
      "\u001b[1;31m---------------------------------------------------------------------------\u001b[0m",
      "\u001b[1;31merror\u001b[0m                                     Traceback (most recent call last)",
      "\u001b[1;32m<ipython-input-19-17f4d201b191>\u001b[0m in \u001b[0;36m<module>\u001b[1;34m\u001b[0m\n\u001b[0;32m      5\u001b[0m \u001b[1;31m# orig = image.copy()\u001b[0m\u001b[1;33m\u001b[0m\u001b[1;33m\u001b[0m\u001b[1;33m\u001b[0m\u001b[0m\n\u001b[0;32m      6\u001b[0m \u001b[1;31m# convert to grayscale and blur to smooth\u001b[0m\u001b[1;33m\u001b[0m\u001b[1;33m\u001b[0m\u001b[1;33m\u001b[0m\u001b[0m\n\u001b[1;32m----> 7\u001b[1;33m \u001b[0mgray\u001b[0m \u001b[1;33m=\u001b[0m \u001b[0mcv2\u001b[0m\u001b[1;33m.\u001b[0m\u001b[0mcvtColor\u001b[0m\u001b[1;33m(\u001b[0m\u001b[0mimage\u001b[0m\u001b[1;33m,\u001b[0m \u001b[0mcv2\u001b[0m\u001b[1;33m.\u001b[0m\u001b[0mCOLOR_BGR2GRAY\u001b[0m\u001b[1;33m)\u001b[0m\u001b[1;33m\u001b[0m\u001b[1;33m\u001b[0m\u001b[0m\n\u001b[0m\u001b[0;32m      8\u001b[0m \u001b[0mblurred\u001b[0m \u001b[1;33m=\u001b[0m \u001b[0mcv2\u001b[0m\u001b[1;33m.\u001b[0m\u001b[0mGaussianBlur\u001b[0m\u001b[1;33m(\u001b[0m\u001b[0mgray\u001b[0m\u001b[1;33m,\u001b[0m \u001b[1;33m(\u001b[0m\u001b[1;36m5\u001b[0m\u001b[1;33m,\u001b[0m \u001b[1;36m5\u001b[0m\u001b[1;33m)\u001b[0m\u001b[1;33m,\u001b[0m \u001b[1;36m0\u001b[0m\u001b[1;33m)\u001b[0m\u001b[1;33m\u001b[0m\u001b[1;33m\u001b[0m\u001b[0m\n\u001b[0;32m      9\u001b[0m \u001b[1;31m#blurred = cv2.medianBlur(gray, 5)\u001b[0m\u001b[1;33m\u001b[0m\u001b[1;33m\u001b[0m\u001b[1;33m\u001b[0m\u001b[0m\n",
      "\u001b[1;31merror\u001b[0m: OpenCV(4.1.2) C:\\projects\\opencv-python\\opencv\\modules\\imgproc\\src\\color.cpp:182: error: (-215:Assertion failed) !_src.empty() in function 'cv::cvtColor'\n"
     ]
    }
   ],
   "source": [
    "# resize image so it can be processed\n",
    "# choose optimal dimensions such that important content is not lost\n",
    "image = cv2.resize(image, (989, 1280))\n",
    "# creating copy of original image\n",
    "orig = image.copy()\n",
    "# convert to grayscale and blur to smooth\n",
    "gray = cv2.cvtColor(image, cv2.COLOR_BGR2GRAY)\n",
    "blurred = cv2.GaussianBlur(gray, (5, 5), 0)\n",
    "#blurred = cv2.medianBlur(gray, 5)"
   ]
  },
  {
   "cell_type": "code",
   "execution_count": 20,
   "metadata": {},
   "outputs": [
    {
     "ename": "NameError",
     "evalue": "name 'blurred' is not defined",
     "output_type": "error",
     "traceback": [
      "\u001b[1;31m---------------------------------------------------------------------------\u001b[0m",
      "\u001b[1;31mNameError\u001b[0m                                 Traceback (most recent call last)",
      "\u001b[1;32m<ipython-input-20-230609841ecc>\u001b[0m in \u001b[0;36m<module>\u001b[1;34m\u001b[0m\n\u001b[0;32m      1\u001b[0m \u001b[1;31m# apply Canny Edge Detection\u001b[0m\u001b[1;33m\u001b[0m\u001b[1;33m\u001b[0m\u001b[1;33m\u001b[0m\u001b[0m\n\u001b[0;32m      2\u001b[0m \u001b[1;33m\u001b[0m\u001b[0m\n\u001b[1;32m----> 3\u001b[1;33m \u001b[0medged\u001b[0m \u001b[1;33m=\u001b[0m \u001b[0mcv2\u001b[0m\u001b[1;33m.\u001b[0m\u001b[0mCanny\u001b[0m\u001b[1;33m(\u001b[0m\u001b[0mblurred\u001b[0m\u001b[1;33m,\u001b[0m \u001b[1;36m0\u001b[0m\u001b[1;33m,\u001b[0m \u001b[1;36m50\u001b[0m\u001b[1;33m)\u001b[0m\u001b[1;33m\u001b[0m\u001b[1;33m\u001b[0m\u001b[0m\n\u001b[0m\u001b[0;32m      4\u001b[0m \u001b[1;33m\u001b[0m\u001b[0m\n\u001b[0;32m      5\u001b[0m \u001b[0morig_edged\u001b[0m \u001b[1;33m=\u001b[0m \u001b[0medged\u001b[0m\u001b[1;33m.\u001b[0m\u001b[0mcopy\u001b[0m\u001b[1;33m(\u001b[0m\u001b[1;33m)\u001b[0m\u001b[1;33m\u001b[0m\u001b[1;33m\u001b[0m\u001b[0m\n",
      "\u001b[1;31mNameError\u001b[0m: name 'blurred' is not defined"
     ]
    }
   ],
   "source": [
    "\n",
    "\n",
    "\n",
    "# apply Canny Edge Detection\n",
    "\n",
    "edged = cv2.Canny(blurred, 0, 50)\n",
    "\n",
    "orig_edged = edged.copy()\n",
    "\n",
    "\n",
    "\n",
    "# find the contours in the edged image, keeping only the\n",
    "\n",
    "# largest ones, and initialize the screen contour\n",
    "\n",
    "(contours, _) = cv2.findContours(edged, cv2.RETR_LIST, cv2.CHAIN_APPROX_NONE)\n",
    "\n",
    "contours = sorted(contours, key=cv2.contourArea, reverse=True)\n",
    "\n",
    "\n",
    "\n",
    "#x,y,w,h = cv2.boundingRect(contours[0])\n",
    "\n",
    "#cv2.rectangle(image,(x,y),(x+w,y+h),(0,0,255),0)\n",
    "\n",
    "\n",
    "\n",
    "# get approximate contour\n",
    "\n",
    "for c in contours:\n",
    "\n",
    "    p = cv2.arcLength(c, True)\n",
    "\n",
    "    approx = cv2.approxPolyDP(c, 0.02 * p, True)\n",
    "\n",
    "\n",
    "\n",
    "    if len(approx) == 4:\n",
    "\n",
    "        target = approx\n",
    "\n",
    "        break\n",
    "\n",
    "\n",
    "\n",
    "\n",
    "\n",
    "# mapping target points to 800x800 quadrilateral\n",
    "\n",
    "approx = rect.rectify(target)\n",
    "\n",
    "pts2 = np.float32([[0,0],[800,0],[800,800],[0,800]])\n",
    "\n",
    "\n",
    "\n",
    "M = cv2.getPerspectiveTransform(approx,pts2)\n",
    "\n",
    "dst = cv2.warpPerspective(orig,M,(800,800))\n",
    "\n",
    "\n",
    "\n",
    "cv2.drawContours(image, [target], -1, (0, 255, 0), 2)\n",
    "\n",
    "dst = cv2.cvtColor(dst, cv2.COLOR_BGR2GRAY)\n",
    "\n",
    "\n",
    "\n",
    "\n",
    "\n",
    "# using thresholding on warped image to get scanned effect (If Required)\n",
    "\n",
    "ret,th1 = cv2.threshold(dst,127,255,cv2.THRESH_BINARY)\n",
    "\n",
    "th2 = cv2.adaptiveThreshold(dst,255,cv2.ADAPTIVE_THRESH_MEAN_C,\\\n",
    "\n",
    "            cv2.THRESH_BINARY,11,2)\n",
    "\n",
    "th3 = cv2.adaptiveThreshold(dst,255,cv2.ADAPTIVE_THRESH_GAUSSIAN_C,\\\n",
    "\n",
    "            cv2.THRESH_BINARY,11,2)\n",
    "\n",
    "ret2,th4 = cv2.threshold(dst,0,255,cv2.THRESH_BINARY+cv2.THRESH_OTSU)\n",
    "\n",
    "\n",
    "\n",
    "\n",
    "\n",
    "cv2.imshow(\"Original.jpg\", orig)\n",
    "\n",
    "cv2.imshow(\"Original Gray.jpg\", gray)\n",
    "\n",
    "cv2.imshow(\"Original Blurred.jpg\", blurred)\n",
    "\n",
    "cv2.imshow(\"Original Edged.jpg\", orig_edged)\n",
    "\n",
    "cv2.imshow(\"Outline.jpg\", image)\n",
    "\n",
    "cv2.imshow(\"Thresh Binary.jpg\", th1)\n",
    "\n",
    "cv2.imshow(\"Thresh mean.jpg\", th2)\n",
    "\n",
    "cv2.imshow(\"Thresh gauss.jpg\", th3)\n",
    "\n",
    "cv2.imshow(\"Otsu's.jpg\", th4)\n",
    "\n",
    "cv2.imshow(\"dst.jpg\", dst)\n",
    "\n",
    "\n",
    "\n",
    "# other thresholding methods\n",
    "\n",
    "\"\"\"\n",
    "\n",
    "ret,thresh1 = cv2.threshold(dst,127,255,cv2.THRESH_BINARY)\n",
    "\n",
    "ret,thresh2 = cv2.threshold(dst,127,255,cv2.THRESH_BINARY_INV)\n",
    "\n",
    "ret,thresh3 = cv2.threshold(dst,127,255,cv2.THRESH_TRUNC)\n",
    "\n",
    "ret,thresh4 = cv2.threshold(dst,127,255,cv2.THRESH_TOZERO)\n",
    "\n",
    "ret,thresh5 = cv2.threshold(dst,127,255,cv2.THRESH_TOZERO_INV)\n",
    "\n",
    "\n",
    "\n",
    "cv2.imshow(\"Thresh Binary\", thresh1)\n",
    "\n",
    "cv2.imshow(\"Thresh Binary_INV\", thresh2)\n",
    "\n",
    "cv2.imshow(\"Thresh Trunch\", thresh3)\n",
    "\n",
    "cv2.imshow(\"Thresh TOZERO\", thresh4)\n",
    "\n",
    "cv2.imshow(\"Thresh TOZERO_INV\", thresh5)\n",
    "\n",
    "\"\"\"\n",
    "\n",
    "\n",
    "\n",
    "cv2.waitKey(0)\n",
    "\n",
    "cv2.destroyAllWindows()"
   ]
  },
  {
   "cell_type": "code",
   "execution_count": 21,
   "metadata": {},
   "outputs": [
    {
     "ename": "TypeError",
     "evalue": "Image data of dtype object cannot be converted to float",
     "output_type": "error",
     "traceback": [
      "\u001b[1;31m---------------------------------------------------------------------------\u001b[0m",
      "\u001b[1;31mTypeError\u001b[0m                                 Traceback (most recent call last)",
      "\u001b[1;32m<ipython-input-21-cb978d6d5efd>\u001b[0m in \u001b[0;36m<module>\u001b[1;34m\u001b[0m\n\u001b[0;32m     11\u001b[0m \u001b[0medges\u001b[0m \u001b[1;33m=\u001b[0m \u001b[0mcv\u001b[0m\u001b[1;33m.\u001b[0m\u001b[0mCanny\u001b[0m\u001b[1;33m(\u001b[0m\u001b[0mimg\u001b[0m\u001b[1;33m,\u001b[0m\u001b[1;36m100\u001b[0m\u001b[1;33m,\u001b[0m\u001b[1;36m200\u001b[0m\u001b[1;33m)\u001b[0m\u001b[1;33m\u001b[0m\u001b[1;33m\u001b[0m\u001b[0m\n\u001b[0;32m     12\u001b[0m \u001b[1;33m\u001b[0m\u001b[0m\n\u001b[1;32m---> 13\u001b[1;33m \u001b[0mplt\u001b[0m\u001b[1;33m.\u001b[0m\u001b[0msubplot\u001b[0m\u001b[1;33m(\u001b[0m\u001b[1;36m121\u001b[0m\u001b[1;33m)\u001b[0m\u001b[1;33m,\u001b[0m\u001b[0mplt\u001b[0m\u001b[1;33m.\u001b[0m\u001b[0mimshow\u001b[0m\u001b[1;33m(\u001b[0m\u001b[0mimg\u001b[0m\u001b[1;33m,\u001b[0m\u001b[0mcmap\u001b[0m \u001b[1;33m=\u001b[0m \u001b[1;34m'gray'\u001b[0m\u001b[1;33m)\u001b[0m\u001b[1;33m\u001b[0m\u001b[1;33m\u001b[0m\u001b[0m\n\u001b[0m\u001b[0;32m     14\u001b[0m \u001b[0mplt\u001b[0m\u001b[1;33m.\u001b[0m\u001b[0mtitle\u001b[0m\u001b[1;33m(\u001b[0m\u001b[1;34m'Original Image'\u001b[0m\u001b[1;33m)\u001b[0m\u001b[1;33m,\u001b[0m \u001b[0mplt\u001b[0m\u001b[1;33m.\u001b[0m\u001b[0mxticks\u001b[0m\u001b[1;33m(\u001b[0m\u001b[1;33m[\u001b[0m\u001b[1;33m]\u001b[0m\u001b[1;33m)\u001b[0m\u001b[1;33m,\u001b[0m \u001b[0mplt\u001b[0m\u001b[1;33m.\u001b[0m\u001b[0myticks\u001b[0m\u001b[1;33m(\u001b[0m\u001b[1;33m[\u001b[0m\u001b[1;33m]\u001b[0m\u001b[1;33m)\u001b[0m\u001b[1;33m\u001b[0m\u001b[1;33m\u001b[0m\u001b[0m\n\u001b[0;32m     15\u001b[0m \u001b[0mplt\u001b[0m\u001b[1;33m.\u001b[0m\u001b[0msubplot\u001b[0m\u001b[1;33m(\u001b[0m\u001b[1;36m122\u001b[0m\u001b[1;33m)\u001b[0m\u001b[1;33m,\u001b[0m\u001b[0mplt\u001b[0m\u001b[1;33m.\u001b[0m\u001b[0mimshow\u001b[0m\u001b[1;33m(\u001b[0m\u001b[0medges\u001b[0m\u001b[1;33m,\u001b[0m\u001b[0mcmap\u001b[0m \u001b[1;33m=\u001b[0m \u001b[1;34m'gray'\u001b[0m\u001b[1;33m)\u001b[0m\u001b[1;33m\u001b[0m\u001b[1;33m\u001b[0m\u001b[0m\n",
      "\u001b[1;32m~\\Anaconda3\\lib\\site-packages\\matplotlib\\pyplot.py\u001b[0m in \u001b[0;36mimshow\u001b[1;34m(X, cmap, norm, aspect, interpolation, alpha, vmin, vmax, origin, extent, shape, filternorm, filterrad, imlim, resample, url, data, **kwargs)\u001b[0m\n\u001b[0;32m   2681\u001b[0m         \u001b[0mfilternorm\u001b[0m\u001b[1;33m=\u001b[0m\u001b[0mfilternorm\u001b[0m\u001b[1;33m,\u001b[0m \u001b[0mfilterrad\u001b[0m\u001b[1;33m=\u001b[0m\u001b[0mfilterrad\u001b[0m\u001b[1;33m,\u001b[0m \u001b[0mimlim\u001b[0m\u001b[1;33m=\u001b[0m\u001b[0mimlim\u001b[0m\u001b[1;33m,\u001b[0m\u001b[1;33m\u001b[0m\u001b[1;33m\u001b[0m\u001b[0m\n\u001b[0;32m   2682\u001b[0m         resample=resample, url=url, **({\"data\": data} if data is not\n\u001b[1;32m-> 2683\u001b[1;33m         None else {}), **kwargs)\n\u001b[0m\u001b[0;32m   2684\u001b[0m     \u001b[0msci\u001b[0m\u001b[1;33m(\u001b[0m\u001b[0m__ret\u001b[0m\u001b[1;33m)\u001b[0m\u001b[1;33m\u001b[0m\u001b[1;33m\u001b[0m\u001b[0m\n\u001b[0;32m   2685\u001b[0m     \u001b[1;32mreturn\u001b[0m \u001b[0m__ret\u001b[0m\u001b[1;33m\u001b[0m\u001b[1;33m\u001b[0m\u001b[0m\n",
      "\u001b[1;32m~\\Anaconda3\\lib\\site-packages\\matplotlib\\__init__.py\u001b[0m in \u001b[0;36minner\u001b[1;34m(ax, data, *args, **kwargs)\u001b[0m\n\u001b[0;32m   1599\u001b[0m     \u001b[1;32mdef\u001b[0m \u001b[0minner\u001b[0m\u001b[1;33m(\u001b[0m\u001b[0max\u001b[0m\u001b[1;33m,\u001b[0m \u001b[1;33m*\u001b[0m\u001b[0margs\u001b[0m\u001b[1;33m,\u001b[0m \u001b[0mdata\u001b[0m\u001b[1;33m=\u001b[0m\u001b[1;32mNone\u001b[0m\u001b[1;33m,\u001b[0m \u001b[1;33m**\u001b[0m\u001b[0mkwargs\u001b[0m\u001b[1;33m)\u001b[0m\u001b[1;33m:\u001b[0m\u001b[1;33m\u001b[0m\u001b[1;33m\u001b[0m\u001b[0m\n\u001b[0;32m   1600\u001b[0m         \u001b[1;32mif\u001b[0m \u001b[0mdata\u001b[0m \u001b[1;32mis\u001b[0m \u001b[1;32mNone\u001b[0m\u001b[1;33m:\u001b[0m\u001b[1;33m\u001b[0m\u001b[1;33m\u001b[0m\u001b[0m\n\u001b[1;32m-> 1601\u001b[1;33m             \u001b[1;32mreturn\u001b[0m \u001b[0mfunc\u001b[0m\u001b[1;33m(\u001b[0m\u001b[0max\u001b[0m\u001b[1;33m,\u001b[0m \u001b[1;33m*\u001b[0m\u001b[0mmap\u001b[0m\u001b[1;33m(\u001b[0m\u001b[0msanitize_sequence\u001b[0m\u001b[1;33m,\u001b[0m \u001b[0margs\u001b[0m\u001b[1;33m)\u001b[0m\u001b[1;33m,\u001b[0m \u001b[1;33m**\u001b[0m\u001b[0mkwargs\u001b[0m\u001b[1;33m)\u001b[0m\u001b[1;33m\u001b[0m\u001b[1;33m\u001b[0m\u001b[0m\n\u001b[0m\u001b[0;32m   1602\u001b[0m \u001b[1;33m\u001b[0m\u001b[0m\n\u001b[0;32m   1603\u001b[0m         \u001b[0mbound\u001b[0m \u001b[1;33m=\u001b[0m \u001b[0mnew_sig\u001b[0m\u001b[1;33m.\u001b[0m\u001b[0mbind\u001b[0m\u001b[1;33m(\u001b[0m\u001b[0max\u001b[0m\u001b[1;33m,\u001b[0m \u001b[1;33m*\u001b[0m\u001b[0margs\u001b[0m\u001b[1;33m,\u001b[0m \u001b[1;33m**\u001b[0m\u001b[0mkwargs\u001b[0m\u001b[1;33m)\u001b[0m\u001b[1;33m\u001b[0m\u001b[1;33m\u001b[0m\u001b[0m\n",
      "\u001b[1;32m~\\Anaconda3\\lib\\site-packages\\matplotlib\\cbook\\deprecation.py\u001b[0m in \u001b[0;36mwrapper\u001b[1;34m(*args, **kwargs)\u001b[0m\n\u001b[0;32m    367\u001b[0m                 \u001b[1;34mf\"%(removal)s.  If any parameter follows {name!r}, they \"\u001b[0m\u001b[1;33m\u001b[0m\u001b[1;33m\u001b[0m\u001b[0m\n\u001b[0;32m    368\u001b[0m                 f\"should be pass as keyword, not positionally.\")\n\u001b[1;32m--> 369\u001b[1;33m         \u001b[1;32mreturn\u001b[0m \u001b[0mfunc\u001b[0m\u001b[1;33m(\u001b[0m\u001b[1;33m*\u001b[0m\u001b[0margs\u001b[0m\u001b[1;33m,\u001b[0m \u001b[1;33m**\u001b[0m\u001b[0mkwargs\u001b[0m\u001b[1;33m)\u001b[0m\u001b[1;33m\u001b[0m\u001b[1;33m\u001b[0m\u001b[0m\n\u001b[0m\u001b[0;32m    370\u001b[0m \u001b[1;33m\u001b[0m\u001b[0m\n\u001b[0;32m    371\u001b[0m     \u001b[1;32mreturn\u001b[0m \u001b[0mwrapper\u001b[0m\u001b[1;33m\u001b[0m\u001b[1;33m\u001b[0m\u001b[0m\n",
      "\u001b[1;32m~\\Anaconda3\\lib\\site-packages\\matplotlib\\cbook\\deprecation.py\u001b[0m in \u001b[0;36mwrapper\u001b[1;34m(*args, **kwargs)\u001b[0m\n\u001b[0;32m    367\u001b[0m                 \u001b[1;34mf\"%(removal)s.  If any parameter follows {name!r}, they \"\u001b[0m\u001b[1;33m\u001b[0m\u001b[1;33m\u001b[0m\u001b[0m\n\u001b[0;32m    368\u001b[0m                 f\"should be pass as keyword, not positionally.\")\n\u001b[1;32m--> 369\u001b[1;33m         \u001b[1;32mreturn\u001b[0m \u001b[0mfunc\u001b[0m\u001b[1;33m(\u001b[0m\u001b[1;33m*\u001b[0m\u001b[0margs\u001b[0m\u001b[1;33m,\u001b[0m \u001b[1;33m**\u001b[0m\u001b[0mkwargs\u001b[0m\u001b[1;33m)\u001b[0m\u001b[1;33m\u001b[0m\u001b[1;33m\u001b[0m\u001b[0m\n\u001b[0m\u001b[0;32m    370\u001b[0m \u001b[1;33m\u001b[0m\u001b[0m\n\u001b[0;32m    371\u001b[0m     \u001b[1;32mreturn\u001b[0m \u001b[0mwrapper\u001b[0m\u001b[1;33m\u001b[0m\u001b[1;33m\u001b[0m\u001b[0m\n",
      "\u001b[1;32m~\\Anaconda3\\lib\\site-packages\\matplotlib\\axes\\_axes.py\u001b[0m in \u001b[0;36mimshow\u001b[1;34m(self, X, cmap, norm, aspect, interpolation, alpha, vmin, vmax, origin, extent, shape, filternorm, filterrad, imlim, resample, url, **kwargs)\u001b[0m\n\u001b[0;32m   5669\u001b[0m                               resample=resample, **kwargs)\n\u001b[0;32m   5670\u001b[0m \u001b[1;33m\u001b[0m\u001b[0m\n\u001b[1;32m-> 5671\u001b[1;33m         \u001b[0mim\u001b[0m\u001b[1;33m.\u001b[0m\u001b[0mset_data\u001b[0m\u001b[1;33m(\u001b[0m\u001b[0mX\u001b[0m\u001b[1;33m)\u001b[0m\u001b[1;33m\u001b[0m\u001b[1;33m\u001b[0m\u001b[0m\n\u001b[0m\u001b[0;32m   5672\u001b[0m         \u001b[0mim\u001b[0m\u001b[1;33m.\u001b[0m\u001b[0mset_alpha\u001b[0m\u001b[1;33m(\u001b[0m\u001b[0malpha\u001b[0m\u001b[1;33m)\u001b[0m\u001b[1;33m\u001b[0m\u001b[1;33m\u001b[0m\u001b[0m\n\u001b[0;32m   5673\u001b[0m         \u001b[1;32mif\u001b[0m \u001b[0mim\u001b[0m\u001b[1;33m.\u001b[0m\u001b[0mget_clip_path\u001b[0m\u001b[1;33m(\u001b[0m\u001b[1;33m)\u001b[0m \u001b[1;32mis\u001b[0m \u001b[1;32mNone\u001b[0m\u001b[1;33m:\u001b[0m\u001b[1;33m\u001b[0m\u001b[1;33m\u001b[0m\u001b[0m\n",
      "\u001b[1;32m~\\Anaconda3\\lib\\site-packages\\matplotlib\\image.py\u001b[0m in \u001b[0;36mset_data\u001b[1;34m(self, A)\u001b[0m\n\u001b[0;32m    683\u001b[0m                 not np.can_cast(self._A.dtype, float, \"same_kind\")):\n\u001b[0;32m    684\u001b[0m             raise TypeError(\"Image data of dtype {} cannot be converted to \"\n\u001b[1;32m--> 685\u001b[1;33m                             \"float\".format(self._A.dtype))\n\u001b[0m\u001b[0;32m    686\u001b[0m \u001b[1;33m\u001b[0m\u001b[0m\n\u001b[0;32m    687\u001b[0m         if not (self._A.ndim == 2\n",
      "\u001b[1;31mTypeError\u001b[0m: Image data of dtype object cannot be converted to float"
     ]
    }
   ],
   "source": [
    "import numpy as np\n",
    "import cv2 as cv\n",
    "from matplotlib import pyplot as plt\n",
    "import os\n",
    "os.chdir(\"C:\\\\Users\\\\MANDY\\\\Downloads\")\n",
    "# add image here.\n",
    "# We can also use laptop's webcam if the resolution is good enough to capture\n",
    "# readable document content\n",
    "# image = cv2.imread('edge.jpg')\n",
    "img = cv.imread('edge.jpg',0)\n",
    "edges = cv.Canny(img,100,200)\n",
    "\n",
    "plt.subplot(121),plt.imshow(img,cmap = 'gray')\n",
    "plt.title('Original Image'), plt.xticks([]), plt.yticks([])\n",
    "plt.subplot(122),plt.imshow(edges,cmap = 'gray')\n",
    "plt.title('Edge Image'), plt.xticks([]), plt.yticks([])\n",
    "\n",
    "plt.show()"
   ]
  },
  {
   "cell_type": "code",
   "execution_count": 80,
   "metadata": {},
   "outputs": [],
   "source": [
    "import numpy as np\n",
    "import cv2 as cv\n",
    "from matplotlib import pyplot as plt\n",
    "import os\n",
    "os.chdir(\"C:\\\\Users\\\\MANDY\\\\Desktop\\\\capstone\")\n",
    "# add image here.\n",
    "# We can also use laptop's webcam if the resolution is good enough to capture\n",
    "# readable document content\n",
    "# image = cv2.imread('edge.jpg')\n",
    "img = cv.imread('edge.jpg',0)"
   ]
  },
  {
   "cell_type": "code",
   "execution_count": 81,
   "metadata": {},
   "outputs": [
    {
     "data": {
      "text/plain": [
       "True"
      ]
     },
     "execution_count": 81,
     "metadata": {},
     "output_type": "execute_result"
    }
   ],
   "source": [
    "# Read the image\n",
    "img = cv2.imread('C:\\\\Users\\\\MANDY\\\\Desktop\\\\capstone\\\\edge.jpeg', 0)\n",
    " \n",
    "# Thresholding the image\n",
    "(thresh, img_bin) = cv2.threshold(img, 127, 255,cv2.THRESH_TRUNC|     cv2.THRESH_OTSU)\n",
    "# Invert the image\n",
    "img_bin = 255-img_bin\n",
    "cv2.imwrite(\"edge1.jpg\",img_bin)"
   ]
  },
  {
   "cell_type": "code",
   "execution_count": 82,
   "metadata": {},
   "outputs": [
    {
     "data": {
      "text/plain": [
       "<matplotlib.image.AxesImage at 0x212cead6648>"
      ]
     },
     "execution_count": 82,
     "metadata": {},
     "output_type": "execute_result"
    },
    {
     "data": {
      "image/png": "[encoded data removed]",
      "text/plain": [
       "<Figure size 432x288 with 1 Axes>"
      ]
     },
     "metadata": {
      "needs_background": "light"
     },
     "output_type": "display_data"
    }
   ],
   "source": [
    "plt.imshow(img_bin)"
   ]
  },
  {
   "cell_type": "code",
   "execution_count": 83,
   "metadata": {},
   "outputs": [],
   "source": [
    "# Defining a kernel length\n",
    "kernel_length = np.array(img).shape[1]//80\n",
    " \n",
    "# A verticle kernel of (1 X kernel_length), which will detect all the verticle lines from the image.\n",
    "verticle_kernel = cv2.getStructuringElement(cv2.MORPH_RECT, (1, kernel_length))\n",
    "# A horizontal kernel of (kernel_length X 1), which will help to detect all the horizontal line from the image.\n",
    "hori_kernel = cv2.getStructuringElement(cv2.MORPH_RECT, (kernel_length, 1))\n",
    "# A kernel of (3 X 3) ones.\n",
    "kernel = cv2.getStructuringElement(cv2.MORPH_RECT, (2, 3))"
   ]
  },
  {
   "cell_type": "code",
   "execution_count": 84,
   "metadata": {},
   "outputs": [
    {
     "data": {
      "text/plain": [
       "True"
      ]
     },
     "execution_count": 84,
     "metadata": {},
     "output_type": "execute_result"
    }
   ],
   "source": [
    "# Morphological operation to detect vertical lines from an image\n",
    "img_temp1 = cv2.erode(img_bin, verticle_kernel, iterations=2)\n",
    "verticle_lines_img = cv2.dilate(img_temp1, verticle_kernel, iterations=2)\n",
    "cv2.imwrite(\"verticle_lines.jpg\",verticle_lines_img)\n",
    "# Morphological operation to detect horizontal lines from an image\n",
    "img_temp2 = cv2.erode(img_bin, hori_kernel, iterations=2)\n",
    "horizontal_lines_img = cv2.dilate(img_temp2, hori_kernel, iterations=2)\n",
    "cv2.imwrite(\"horizontal_lines.jpg\",horizontal_lines_img)"
   ]
  },
  {
   "cell_type": "code",
   "execution_count": 86,
   "metadata": {},
   "outputs": [
    {
     "data": {
      "text/plain": [
       "True"
      ]
     },
     "execution_count": 86,
     "metadata": {},
     "output_type": "execute_result"
    }
   ],
   "source": [
    "# Weighting parameters, this will decide the quantity of an image to be added to make a new image.\n",
    "alpha = 0.5\n",
    "beta = 1.0 - alpha\n",
    "# This function helps to add two image with specific weight parameter to get a third image as summation of two image.\n",
    "img_final_bin = cv2.addWeighted(verticle_lines_img, alpha, horizontal_lines_img, beta, 0.1)\n",
    "img_final_bin = cv2.erode(~img_final_bin, kernel, iterations=2)\n",
    "(thresh, img_final_bin) = cv2.threshold(img_final_bin, 127,255, cv2.THRESH_BINARY | cv2.THRESH_OTSU)\n",
    "cv2.imwrite(\"img_final_bin1.jpg\",img_final_bin)"
   ]
  },
  {
   "cell_type": "code",
   "execution_count": 89,
   "metadata": {},
   "outputs": [
    {
     "data": {
      "image/png": "[encoded data removed]",
      "text/plain": [
       "<Figure size 432x288 with 1 Axes>"
      ]
     },
     "metadata": {
      "needs_background": "light"
     },
     "output_type": "display_data"
    }
   ],
   "source": [
    "plt.imshow(img_final_bin)\n",
    "plt.show()"
   ]
  },
  {
   "cell_type": "code",
   "execution_count": 134,
   "metadata": {},
   "outputs": [],
   "source": [
    "import cv2\n",
    "\n",
    "#Load the image in black and white (0 - b/w, 1 - color).\n",
    "# Read the image\n",
    "img = cv2.imread('C:\\\\Users\\\\MANDY\\\\Desktop\\\\capstone\\\\edge.png', 0)\n",
    "# img = cv2.imread('input.png', 0)\n",
    "\n",
    "#Get the height and width of the image.\n",
    "h, w = img.shape[:2]\n",
    "\n",
    "#Invert the image to be white on black for compatibility with findContours function.\n",
    "imgray = 255 - img\n",
    "#Binarize the image and call it thresh.\n",
    "ret, thresh = cv2.threshold(imgray, 127, 255, cv2.THRESH_BINARY)\n",
    "\n",
    "#Find all the contours in thresh. In your case the 3 and the additional strike\n",
    "contours, hierarchy = cv2.findContours(thresh, cv2.RETR_LIST, cv2.CHAIN_APPROX_SIMPLE)\n",
    "#Calculate bounding rectangles for each contour.\n",
    "rects = [cv2.boundingRect(cnt) for cnt in contours]\n",
    "\n",
    "# #Calculate the combined bounding rectangle points.\n",
    "# top_x = min([x for (x, y, w, h) in rects])\n",
    "# top_y = min([y for (x, y, w, h) in rects])\n",
    "# bottom_x = max([x+w for (x, y, w, h) in rects])\n",
    "# bottom_y = max([y+h for (x, y, w, h) in rects])\n",
    "\n",
    "# #Draw the rectangle on the image\n",
    "# out = cv2.rectangle(img, (top_x, top_y), (bottom_x, bottom_y), (0, 255, 0), 2)\n",
    "# #Save it as out.jpg\n",
    "# cv2.imwrite('out.jpg', img)"
   ]
  },
  {
   "cell_type": "code",
   "execution_count": 92,
   "metadata": {},
   "outputs": [
    {
     "data": {
      "text/plain": [
       "464"
      ]
     },
     "execution_count": 92,
     "metadata": {},
     "output_type": "execute_result"
    }
   ],
   "source": [
    "len(rects)"
   ]
  },
  {
   "cell_type": "code",
   "execution_count": 135,
   "metadata": {},
   "outputs": [],
   "source": [
    "count=0\n",
    "for i in rects:\n",
    "    try:\n",
    "        x=i[0]\n",
    "        y=i[1]\n",
    "        w=i[2]\n",
    "        h=i[3]\n",
    "        #if (w>33 and w<37 and h>27 and h <31):\n",
    "            #print(i)\n",
    "        cv2.imwrite(\"..\\\\result\\\\subz\"+str(count)+\".png\",img[x:x+w,y:y+h])\n",
    "        count+=1\n",
    "    except:\n",
    "        continue"
   ]
  },
  {
   "cell_type": "code",
   "execution_count": 103,
   "metadata": {},
   "outputs": [
    {
     "data": {
      "text/plain": [
       "'C:\\\\Users\\\\MANDY\\\\Desktop\\\\capstone'"
      ]
     },
     "execution_count": 103,
     "metadata": {},
     "output_type": "execute_result"
    }
   ],
   "source": [
    "os.getcwd()"
   ]
  },
  {
   "cell_type": "code",
   "execution_count": 131,
   "metadata": {},
   "outputs": [],
   "source": [
    "import cv2\n",
    "\n",
    "def edge_detect(file_name, tresh_min, tresh_max):\n",
    "    image = cv2.imread(file_name)\n",
    "    im_bw = cv2.cvtColor(image, cv2.COLOR_RGB2GRAY)\n",
    "\n",
    "    (thresh, im_bw) = cv2.threshold(im_bw, tresh_min, tresh_max, 0)\n",
    "    cv2.imwrite('bw_'+file_name, im_bw)\n",
    "\n",
    "    contours, hierarchy = cv2.findContours(im_bw, cv2.RETR_TREE, cv2.CHAIN_APPROX_SIMPLE)\n",
    "    cv2.drawContours(image, contours, 1, (0,255,0), 3)\n",
    "    cv2.imwrite('cnt_'+file_name, image)\n",
    "\n",
    "if __name__ == '__main__':\n",
    "    edge_detect('edge.jpeg', 128, 255)"
   ]
  },
  {
   "cell_type": "code",
   "execution_count": 132,
   "metadata": {},
   "outputs": [
    {
     "data": {
      "text/plain": [
       "True"
      ]
     },
     "execution_count": 132,
     "metadata": {},
     "output_type": "execute_result"
    }
   ],
   "source": [
    "cv2.imwrite(\"..\\\\result\\\\subx\"+str(count)+\".jpg\",img[x:x+w,y:y+h])"
   ]
  },
  {
   "cell_type": "code",
   "execution_count": 124,
   "metadata": {},
   "outputs": [],
   "source": [
    "import cv2\n",
    "\n",
    "def bw_scale(file_name, tresh_min, tresh_max):\n",
    "    image = cv2.imread(file_name)\n",
    "    image = cv2.cvtColor(image, cv2.COLOR_RGB2GRAY)\n",
    "    (thresh, im_bw) = cv2.threshold(image, tresh_min, tresh_max, cv2.THRESH_BINARY | cv2.THRESH_OTSU)\n",
    "    (thresh, im_bw) = cv2.threshold(image, tresh_min, tresh_max, 0)\n",
    "\n",
    "    cv2.imwrite('bw_'+file_name, im_bw)\n",
    "    return (thresh, im_bw)\n",
    "\n",
    "def edge_detect(file_name, tresh_min, tresh_max):\n",
    "    (thresh, im_bw) = bw_scale(file_name, tresh_min, tresh_max)\n",
    "    contours, hierarchy = cv2.findContours(im_bw, cv2.RETR_TREE, cv2.CHAIN_APPROX_SIMPLE)\n",
    "\n",
    "\n",
    "if __name__ == '__main__':\n",
    "    edge_detect('edge.jpeg', 128, 255)"
   ]
  },
  {
   "cell_type": "code",
   "execution_count": 136,
   "metadata": {},
   "outputs": [
    {
     "ename": "SyntaxError",
     "evalue": "invalid syntax (<ipython-input-136-832d93189f21>, line 7)",
     "output_type": "error",
     "traceback": [
      "\u001b[1;36m  File \u001b[1;32m\"<ipython-input-136-832d93189f21>\"\u001b[1;36m, line \u001b[1;32m7\u001b[0m\n\u001b[1;33m    print page_content.encode('utf-8')\u001b[0m\n\u001b[1;37m                     ^\u001b[0m\n\u001b[1;31mSyntaxError\u001b[0m\u001b[1;31m:\u001b[0m invalid syntax\n"
     ]
    }
   ],
   "source": [
    "import PyPDF2\n",
    "pdf_file = open('edge.pdf', 'rb')\n",
    "read_pdf = PyPDF2.PdfFileReader(pdf_file)\n",
    "number_of_pages = read_pdf.getNumPages()\n",
    "page = read_pdf.getPage(0)\n",
    "page_content = page.extractText()\n",
    "print page_content.encode('utf-8')"
   ]
  },
  {
   "cell_type": "code",
   "execution_count": 138,
   "metadata": {},
   "outputs": [
    {
     "name": "stdout",
     "output_type": "stream",
     "text": [
      "Collecting pypdf2\n",
      "  Downloading https://files.pythonhosted.org/packages/b4/01/68fcc0d43daf4c6bdbc6b33cc3f77bda531c86b174cac56ef0ffdb96faab/PyPDF2-1.26.0.tar.gz (77kB)\n",
      "Building wheels for collected packages: pypdf2\n",
      "  Building wheel for pypdf2 (setup.py): started\n",
      "  Building wheel for pypdf2 (setup.py): finished with status 'done'\n",
      "  Created wheel for pypdf2: filename=PyPDF2-1.26.0-cp37-none-any.whl size=61091 sha256=df5597067496465e05d23b7972d57aa8b1333bbf7c7a154fdbe7314bc4aa4ab4\n",
      "  Stored in directory: C:\\Users\\MANDY\\AppData\\Local\\pip\\Cache\\wheels\\53\\84\\19\\35bc977c8bf5f0c23a8a011aa958acd4da4bbd7a229315c1b7\n",
      "Successfully built pypdf2\n",
      "Installing collected packages: pypdf2\n",
      "Successfully installed pypdf2-1.26.0\n",
      "Note: you may need to restart the kernel to use updated packages.\n"
     ]
    }
   ],
   "source": [
    "pip install pypdf2"
   ]
  },
  {
   "cell_type": "code",
   "execution_count": 144,
   "metadata": {},
   "outputs": [
    {
     "name": "stdout",
     "output_type": "stream",
     "text": [
      "1\n",
      "Scanned by CamScanner\n"
     ]
    }
   ],
   "source": [
    "# importing required modules\n",
    "import PyPDF2\n",
    "\n",
    "# creating a pdf file object\n",
    "pdfFileObj = open('edge5.pdf', 'rb')\n",
    "\n",
    "# creating a pdf reader object\n",
    "pdfReader = PyPDF2.PdfFileReader(pdfFileObj)\n",
    "\n",
    "# printing number of pages in pdf file\n",
    "print(pdfReader.numPages)\n",
    "\n",
    "# creating a page object\n",
    "pageObj = pdfReader.getPage(0)\n",
    "\n",
    "# extracting text from page\n",
    "print(pageObj.extractText())\n",
    "\n",
    "# closing the pdf file object\n",
    "pdfFileObj.close()"
   ]
  }
 ],
 "metadata": {
  "kernelspec": {
   "display_name": "Python 3",
   "language": "python",
   "name": "python3"
  },
  "language_info": {
   "codemirror_mode": {
    "name": "ipython",
    "version": 3
   },
   "file_extension": ".py",
   "mimetype": "text/x-python",
   "name": "python",
   "nbconvert_exporter": "python",
   "pygments_lexer": "ipython3",
   "version": "3.7.4"
  }
 },
 "nbformat": 4,
 "nbformat_minor": 2
}
